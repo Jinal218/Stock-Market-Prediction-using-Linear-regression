{
 "cells": [
  {
   "cell_type": "code",
   "execution_count": 8,
   "metadata": {},
   "outputs": [],
   "source": [
    "from statistics import mean\n",
    "import numpy as np\n",
    "import matplotlib.pyplot as plt\n",
    "from matplotlib import style"
   ]
  },
  {
   "cell_type": "code",
   "execution_count": 2,
   "metadata": {},
   "outputs": [],
   "source": [
    "xs = np.array([1,2,3,4,5,6], dtype = np.float64)\n",
    "ys = np.array([5,4,6,5,6,7], dtype = np.float64)"
   ]
  },
  {
   "cell_type": "code",
   "execution_count": 5,
   "metadata": {},
   "outputs": [
    {
     "name": "stdout",
     "output_type": "stream",
     "text": [
      "0.42857142857142866 4.0\n"
     ]
    }
   ],
   "source": [
    "def best_fit_slope_and_intercept(xs,ys):\n",
    "    m = ( ((mean(xs) * mean(ys)) - mean(xs*ys)) / \n",
    "           ((mean(xs)**2) - mean(xs**2)))\n",
    "    b = mean(ys) - m*mean(xs)\n",
    "    return m,b\n",
    "\n",
    "m,b = best_fit_slope_and_intercept(xs,ys)\n",
    "print(m,b)"
   ]
  },
  {
   "cell_type": "code",
   "execution_count": 7,
   "metadata": {},
   "outputs": [],
   "source": [
    "regression_line = [(m*x) + b for x in xs]"
   ]
  },
  {
   "cell_type": "code",
   "execution_count": 10,
   "metadata": {},
   "outputs": [
    {
     "data": {
      "text/plain": [
       "[<matplotlib.lines.Line2D at 0x237518701c0>]"
      ]
     },
     "execution_count": 10,
     "metadata": {},
     "output_type": "execute_result"
    },
    {
     "data": {
      "image/png": "[encoded data removed]",
      "text/plain": [
       "<Figure size 432x288 with 1 Axes>"
      ]
     },
     "metadata": {
      "needs_background": "light"
     },
     "output_type": "display_data"
    }
   ],
   "source": [
    "plt.scatter(xs,ys)\n",
    "plt.plot(xs, regression_line)"
   ]
  },
  {
   "cell_type": "code",
   "execution_count": 12,
   "metadata": {},
   "outputs": [
    {
     "data": {
      "text/plain": [
       "[<matplotlib.lines.Line2D at 0x23751955600>]"
      ]
     },
     "execution_count": 12,
     "metadata": {},
     "output_type": "execute_result"
    },
    {
     "data": {
      "image/png": "[encoded data removed]",
      "text/plain": [
       "<Figure size 432x288 with 1 Axes>"
      ]
     },
     "metadata": {
      "needs_background": "light"
     },
     "output_type": "display_data"
    }
   ],
   "source": [
    "predict_x = 8\n",
    "predict_y = (m * predict_x) + b\n",
    "\n",
    "plt.scatter(predict_x, predict_y, color ='r')\n",
    "plt.scatter(xs,ys)\n",
    "plt.plot(xs, regression_line)\n"
   ]
  },
  {
   "cell_type": "code",
   "execution_count": 13,
   "metadata": {},
   "outputs": [],
   "source": [
    "def squared_error(ys_orig, ys_line):\n",
    "    return sum((ys_line - ys_orig)**2 )\n",
    "\n",
    "def coeff_of_determination(ys_orig, ys_line):\n",
    "    y_mean_line = [mean(ys_orig) for y in ys_orig]\n",
    "    sq_error_reg = squared_error(ys_orig, ys_line)\n",
    "    sq_err_y_mean = squared_error(ys_orig, y_mean_line)\n",
    "    return 1 - (sq_error_reg / sq_err_y_mean)"
   ]
  },
  {
   "cell_type": "code",
   "execution_count": 14,
   "metadata": {},
   "outputs": [
    {
     "name": "stdout",
     "output_type": "stream",
     "text": [
      "0.5844155844155845\n"
     ]
    }
   ],
   "source": [
    "r_squared = coeff_of_determination(ys, regression_line)\n",
    "print(r_squared)"
   ]
  },
  {
   "cell_type": "code",
   "execution_count": null,
   "metadata": {},
   "outputs": [],
   "source": []
  }
 ],
 "metadata": {
  "kernelspec": {
   "display_name": "Python 3",
   "language": "python",
   "name": "python3"
  },
  "language_info": {
   "codemirror_mode": {
    "name": "ipython",
    "version": 3
   },
   "file_extension": ".py",
   "mimetype": "text/x-python",
   "name": "python",
   "nbconvert_exporter": "python",
   "pygments_lexer": "ipython3",
   "version": "3.10.4"
  },
  "orig_nbformat": 4
 },
 "nbformat": 4,
 "nbformat_minor": 2
}
