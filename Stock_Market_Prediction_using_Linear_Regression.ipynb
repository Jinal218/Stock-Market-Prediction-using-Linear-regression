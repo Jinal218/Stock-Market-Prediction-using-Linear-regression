{
  "cells": [
    {
      "cell_type": "code",
      "execution_count": 2,
      "metadata": {
        "id": "8Ba7LWXzXL4p"
      },
      "outputs": [],
      "source": [
        "import pandas as pd\n",
        "#import quandl\n",
        "import math, datetime\n",
        "import numpy as np\n",
        "from sklearn import preprocessing, svm\n",
        "from sklearn.model_selection import train_test_split\n",
        "from sklearn.linear_model import LinearRegression\n",
        "import matplotlib.pyplot as plt\n",
        "from matplotlib import style"
      ]
    },
    {
      "cell_type": "code",
      "execution_count": 5,
      "metadata": {
        "colab": {
          "base_uri": "https://localhost:8080/"
        },
        "id": "6CNZuDugXYIr",
        "outputId": "148bc8fd-dd36-4353-b064-21c1a6c72f05"
      },
      "outputs": [
        {
          "name": "stdout",
          "output_type": "stream",
          "text": [
            "         Date        Open        High         Low       Close   Adj Close  \\\n",
            "0  2014-09-17  465.864014  468.174011  452.421997  457.334015  457.334015   \n",
            "1  2014-09-18  456.859985  456.859985  413.104004  424.440002  424.440002   \n",
            "2  2014-09-19  424.102997  427.834991  384.532013  394.795990  394.795990   \n",
            "3  2014-09-20  394.673004  423.295990  389.882996  408.903992  408.903992   \n",
            "4  2014-09-21  408.084991  412.425995  393.181000  398.821014  398.821014   \n",
            "\n",
            "     Volume  \n",
            "0  21056800  \n",
            "1  34483200  \n",
            "2  37919700  \n",
            "3  36863600  \n",
            "4  26580100  \n"
          ]
        }
      ],
      "source": [
        "#df = quandl.get('WIKI/GOOGL')\n",
        "df = pd.read_csv('BTC-USD.csv')\n",
        "print(df.head())"
      ]
    },
    {
      "cell_type": "code",
      "execution_count": 6,
      "metadata": {
        "colab": {
          "base_uri": "https://localhost:8080/"
        },
        "id": "V609eFr1X6gq",
        "outputId": "f5d3aaf7-2054-4e12-c261-16cdda322ef9"
      },
      "outputs": [
        {
          "name": "stderr",
          "output_type": "stream",
          "text": [
            "<ipython-input-6-626f7051e407>:2: SettingWithCopyWarning: \n",
            "A value is trying to be set on a copy of a slice from a DataFrame.\n",
            "Try using .loc[row_indexer,col_indexer] = value instead\n",
            "\n",
            "See the caveats in the documentation: https://pandas.pydata.org/pandas-docs/stable/user_guide/indexing.html#returning-a-view-versus-a-copy\n",
            "  df['HL_PCT'] = (df['High'] - df['Adj Close']) / df['Adj Close'] * 100\n"
          ]
        }
      ],
      "source": [
        "df = df[['Open', 'High', 'Low', 'Adj Close', 'Volume']]\n",
        "df['HL_PCT'] = (df['High'] - df['Adj Close']) / df['Adj Close'] * 100\n",
        "df['PCT_change'] = (df['Adj Close'] - df['Open']) / df['Open'] * 100"
      ]
    },
    {
      "cell_type": "code",
      "execution_count": 7,
      "metadata": {
        "id": "qXOr2jbYYph4"
      },
      "outputs": [],
      "source": [
        "df = df[['Adj Close', 'HL_PCT', 'PCT_change', 'Volume']]"
      ]
    },
    {
      "cell_type": "code",
      "execution_count": 8,
      "metadata": {
        "colab": {
          "base_uri": "https://localhost:8080/"
        },
        "id": "qBIDgZ8CY8GI",
        "outputId": "b7798486-ff9b-4204-8b87-5554d8b5f638"
      },
      "outputs": [
        {
          "name": "stdout",
          "output_type": "stream",
          "text": [
            "    Adj Close    HL_PCT  PCT_change    Volume\n",
            "0  457.334015  2.370258   -1.831006  21056800\n",
            "1  424.440002  7.638296   -7.096262  34483200\n",
            "2  394.795990  8.368626   -6.910351  37919700\n",
            "3  408.903992  3.519652    3.605767  36863600\n",
            "4  398.821014  3.411300   -2.270110  26580100\n"
          ]
        }
      ],
      "source": [
        "print(df.head())"
      ]
    },
    {
      "cell_type": "code",
      "execution_count": 9,
      "metadata": {
        "id": "pYgaXplrZXVR"
      },
      "outputs": [],
      "source": [
        "forecast_col = 'Adj Close'\n",
        "df.fillna(-99999, inplace=True)"
      ]
    },
    {
      "cell_type": "code",
      "execution_count": 10,
      "metadata": {
        "colab": {
          "base_uri": "https://localhost:8080/"
        },
        "id": "_oNvBxRleSFM",
        "outputId": "ee74ee47-a44f-4180-ea8d-4024a32cafab"
      },
      "outputs": [
        {
          "name": "stdout",
          "output_type": "stream",
          "text": [
            "1\n"
          ]
        }
      ],
      "source": [
        "forecast_out = int(math.ceil(0.0001*len(df)))\n",
        "print(forecast_out)"
      ]
    },
    {
      "cell_type": "code",
      "execution_count": 11,
      "metadata": {
        "colab": {
          "base_uri": "https://localhost:8080/"
        },
        "id": "8zABmrYyedfV",
        "outputId": "392f250b-ea08-42ec-cc9e-1c784fc666f9"
      },
      "outputs": [
        {
          "name": "stdout",
          "output_type": "stream",
          "text": [
            "    Adj Close    HL_PCT  PCT_change    Volume       label\n",
            "0  457.334015  2.370258   -1.831006  21056800  424.440002\n",
            "1  424.440002  7.638296   -7.096262  34483200  394.795990\n",
            "2  394.795990  8.368626   -6.910351  37919700  408.903992\n",
            "3  408.903992  3.519652    3.605767  36863600  398.821014\n",
            "4  398.821014  3.411300   -2.270110  26580100  402.152008\n"
          ]
        }
      ],
      "source": [
        "df['label'] = df[forecast_col].shift(-forecast_out)\n",
        "df.dropna(inplace=True)\n",
        "print(df.head())"
      ]
    },
    {
      "cell_type": "code",
      "execution_count": 12,
      "metadata": {
        "colab": {
          "base_uri": "https://localhost:8080/"
        },
        "id": "gpXHOU_XerSY",
        "outputId": "98241517-6918-4154-aa4a-6314b12b5abb"
      },
      "outputs": [
        {
          "name": "stderr",
          "output_type": "stream",
          "text": [
            "<ipython-input-12-7755bd0c6689>:1: FutureWarning: In a future version of pandas all arguments of DataFrame.drop except for the argument 'labels' will be keyword-only.\n",
            "  x = np.array(df.drop(['label'],1))\n"
          ]
        }
      ],
      "source": [
        "x = np.array(df.drop(['label'],1))\n",
        "y = np.array(df['label'])\n"
      ]
    },
    {
      "cell_type": "code",
      "execution_count": 13,
      "metadata": {
        "colab": {
          "base_uri": "https://localhost:8080/"
        },
        "id": "lUottj0QhLhT",
        "outputId": "ffa75477-dfc8-493b-b2f0-f65774578d5c"
      },
      "outputs": [
        {
          "name": "stdout",
          "output_type": "stream",
          "text": [
            "3219 3219\n"
          ]
        },
        {
          "name": "stderr",
          "output_type": "stream",
          "text": [
            "/usr/local/lib/python3.10/dist-packages/sklearn/preprocessing/_data.py:240: UserWarning: Numerical issues were encountered when centering the data and might not be solved. Dataset may contain too large values. You may need to prescale your features.\n",
            "  warnings.warn(\n"
          ]
        }
      ],
      "source": [
        "x = preprocessing.scale(x)\n",
        "x_lately = x[-forecast_out:]\n",
        "y = np.array(df['label'])\n",
        "print(len(x), len(y))"
      ]
    },
    {
      "cell_type": "code",
      "execution_count": 14,
      "metadata": {
        "id": "yJtjF1xKh-9h"
      },
      "outputs": [],
      "source": [
        "x_train, x_test, y_train, y_test = train_test_split(x, y, test_size=0.2)"
      ]
    },
    {
      "cell_type": "code",
      "execution_count": 15,
      "metadata": {
        "colab": {
          "base_uri": "https://localhost:8080/"
        },
        "id": "ovVHxmH8ihyy",
        "outputId": "20797169-938d-45cd-bfae-606bfd275aee"
      },
      "outputs": [
        {
          "name": "stdout",
          "output_type": "stream",
          "text": [
            "0.9983452544831279\n"
          ]
        }
      ],
      "source": [
        "clf = LinearRegression(n_jobs=-1)\n",
        "clf.fit(x_train, y_train)\n",
        "acc = clf.score(x_test, y_test)\n",
        "print(acc)"
      ]
    },
    {
      "cell_type": "code",
      "execution_count": 16,
      "metadata": {
        "colab": {
          "base_uri": "https://localhost:8080/"
        },
        "id": "AoAXIE-9jKKw",
        "outputId": "e07dc836-f94e-4b2a-f9d9-d64b8c57530c"
      },
      "outputs": [
        {
          "name": "stdout",
          "output_type": "stream",
          "text": [
            "[30330.60503542] 0.9983452544831279 1\n"
          ]
        }
      ],
      "source": [
        "forecast_set = clf.predict(x_lately)\n",
        "print(forecast_set, acc, forecast_out )"
      ]
    },
    {
      "cell_type": "code",
      "execution_count": null,
      "metadata": {
        "id": "og0qZlIlvniM"
      },
      "outputs": [],
      "source": [
        "style.use('ggplot')\n",
        "df = pd.read_csv('BTC-USD.csv', index_col='Date', parse_dates=True)\n",
        "df['Forecast'] = np.nan\n",
        "last_date = df.iloc[-1].name\n",
        "last_unix = last_date.timestamp()\n",
        "one_day = 86400\n",
        "next_unix = last_unix + one_day"
      ]
    },
    {
      "cell_type": "code",
      "execution_count": null,
      "metadata": {
        "id": "3CKRW3OQwqiV"
      },
      "outputs": [],
      "source": [
        "for i in forecast_set:\n",
        "  next_date = datetime.datetime.fromtimestamp(next_unix)\n",
        "  next_unix += one_day\n",
        "  df.loc[next_date] = [np.nan for _ in range(len(df.columns)-1)] + [i]"
      ]
    },
    {
      "cell_type": "code",
      "execution_count": null,
      "metadata": {
        "colab": {
          "base_uri": "https://localhost:8080/",
          "height": 417
        },
        "id": "fz5NwkADxEJ-",
        "outputId": "b83a77c2-d945-4bb6-8bc2-8b6477c831ed"
      },
      "outputs": [
        {
          "data": {
            "image/png": "[encoded data removed]",
            "text/plain": [
              "<Figure size 1500x500 with 1 Axes>"
            ]
          },
          "metadata": {},
          "output_type": "display_data"
        }
      ],
      "source": [
        "from matplotlib.pylab import rcParams\n",
        "rcParams['figure.figsize']=15,5\n",
        "\n",
        "df['Adj Close'].plot()\n",
        "df['Forecast'].plot()\n",
        "plt.legend(loc=4)\n",
        "plt.xlabel('Date')\n",
        "plt.ylabel('Price')\n",
        "plt.show()"
      ]
    },
    {
      "cell_type": "code",
      "execution_count": null,
      "metadata": {
        "id": "hQiYytO6xahn"
      },
      "outputs": [],
      "source": []
    }
  ],
  "metadata": {
    "colab": {
      "provenance": []
    },
    "kernelspec": {
      "display_name": "Python 3",
      "name": "python3"
    },
    "language_info": {
      "name": "python",
      "version": "3.10.4"
    }
  },
  "nbformat": 4,
  "nbformat_minor": 0
}
